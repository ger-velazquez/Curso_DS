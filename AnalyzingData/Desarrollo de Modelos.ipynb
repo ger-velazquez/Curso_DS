{
 "cells": [
  {
   "cell_type": "markdown",
   "metadata": {},
   "source": [
    "Primero, vamos a traernos partes del archivo anterior, para ir continuando el mismo hilo que veniamos haciendo, pero ahora orientado al desarrollo de modelos."
   ]
  },
  {
   "cell_type": "code",
   "execution_count": 1,
   "metadata": {
    "scrolled": true
   },
   "outputs": [],
   "source": [
    "import pandas as pd\n",
    "import numpy as np\n",
    "\n",
    "df = pd.read_csv('datasets/imports-85.data', header=None)\n",
    "\n",
    "headings = [\"symboling\",\"normalized-losses\",\"make\",\"fuel-type\",\"aspiration\",\"num-of-doors\",\"body-style\",\"drive-wheels\",\"engine-location\",\"wheel-base\",\"length\",\"width\",\"height\",\"curb-weight\",\"engine-type\",\"num-of-cylinders\",\"engine-size\",\"fuel-system\",\"bore\",\"stroke\",\"compression-ration\",\"horsepower\",\"peak-rpm\",\"city-mpg\",\"highway-mpg\",\"price\"]\n",
    "df.columns = headings\n",
    "\n",
    "#forzar interpretacion numerica\n",
    "df[\"normalized-losses\"] = pd.to_numeric(df[\"normalized-losses\"], errors='coerce')\n",
    "\n",
    "#reemplazo por la media\n",
    "df[\"normalized-losses\"].replace(np.nan,df[\"normalized-losses\"].mean(), inplace=True)\n",
    "\n",
    "df[\"city-mpg\"] = 235/df[\"city-mpg\"]\n",
    "df.rename(columns={\"city-mpg\":\"city-L/100km\"}, inplace=True)\n",
    "\n",
    "df[\"horsepower\"].replace(\"?\",0, inplace=True)\n",
    "df[\"horsepower\"] = df[\"horsepower\"].astype(\"int\")\n",
    "\n",
    "#df[ df.price.apply(lambda x: x.isnumeric()) ].set_index(\"price\")\n",
    "df[\"price\"].replace(\"?\",0, inplace=True)\n",
    "df[\"price\"] = df[\"price\"].astype(\"int\")\n",
    "\n",
    "#Para el largo de los autos, vamos a usar min-max\n",
    "df[\"length\"] = (df[\"length\"] - df[\"length\"].min())/(df[\"length\"].max() - df[\"length\"].min())\n",
    "\n",
    "#para el ancho y el alto, vamos a probar con Z-score\n",
    "df[\"width\"] = (df[\"width\"] - df[\"width\"].mean()) / df[\"width\"].std()\n",
    "df[\"height\"] = (df[\"height\"] - df[\"height\"].mean()) / df[\"height\"].std()\n",
    "\n",
    "#recordar: linspace nos genera intervalos de igual tamaño\n",
    "#armo un vector de 4 numeros, desde el minimo hasta el maximo, asi me quedan 3 segmentos\n",
    "bins = np.linspace(min(df[\"price\"]), max(df[\"price\"]),4)\n",
    "#defino los grupos que quiero crear\n",
    "groups = [\"Low\",\"Medium\",\"High\"]\n",
    "#agrego la columna con los grupos, usando la funcion cut\n",
    "df[\"price-binned\"] = pd.cut(df[\"price\"],bins,labels=groups,include_lowest=True)\n",
    "\n",
    "drive_wheels_counts = df['drive-wheels'].value_counts()\n",
    "body_style_counts = df['body-style'].value_counts()\n",
    "fuel_system_counts = df['fuel-system'].value_counts()\n",
    "\n",
    "drive_wheels_counts.rename(columns={'drive-wheels':'value_counts'}, inplace=True)\n",
    "drive_wheels_counts.index.name= 'drive-wheels'\n"
   ]
  },
  {
   "cell_type": "markdown",
   "metadata": {},
   "source": [
    "# Simple Linear Regression#\n",
    "\n",
    "__Sólo se maneja una variable independiente\n",
    "\n",
    "Variable independiente 'X'\n",
    "\n",
    "Varaible dependiente 'Y'\n",
    "\n",
    "En nuestros terminos, 'X' sera la variable que usaremos para hacer la prediccion; mientras que 'Y' sera nuestro target, el objetivo que queremos predecir."
   ]
  },
  {
   "cell_type": "markdown",
   "metadata": {},
   "source": [
    "Para determinar la linea tomamos datos de ejemplo, de nuestro dataset, y lo usamos para entrenar el modelo (fit).\n",
    "Una vez que esta ajustado, obtenemos el punto de corte en el eje 'y' (u ordenada al origen) que seria nuestro _b0_; y, por otro lado, tambien encontramos la pendiente(scople) _b1_.\n"
   ]
  },
  {
   "cell_type": "markdown",
   "metadata": {},
   "source": [
    "Por otro lado, introducimos un nuevo concepto, llamado 'noise', o ruido. Este concepto hace referencia a la diferencia que tenemos a la hora de comparar el dato real obtenido del dataset, y el dato predicho, consecuencia del modelo."
   ]
  },
  {
   "cell_type": "markdown",
   "metadata": {},
   "source": [
    "Para ajustar un modelo lineal, vamos a hacer:"
   ]
  },
  {
   "cell_type": "code",
   "execution_count": 2,
   "metadata": {},
   "outputs": [],
   "source": [
    "from sklearn.linear_model import LinearRegression\n",
    "\n",
    "lm = LinearRegression()"
   ]
  },
  {
   "cell_type": "markdown",
   "metadata": {},
   "source": [
    "Ahora vamos a definir X e Y, realizar el ajuste y obtener una prediccion."
   ]
  },
  {
   "cell_type": "code",
   "execution_count": 35,
   "metadata": {
    "scrolled": true
   },
   "outputs": [],
   "source": [
    "X = df[['highway-mpg']] #La caracteristica que voy a usar para la prediccion\n",
    "Y = df['price'] #La caracteristica que quiero predecir\n",
    "\n",
    "lm.fit(X,Y) #Realizamos el ajuste\n",
    "\n",
    "Yhat = lm.predict(X) #Obtenemos la prediccion, nuestro famoso 'Y sombrero' o 'Ŷ'"
   ]
  },
  {
   "cell_type": "markdown",
   "metadata": {},
   "source": [
    "Podemos ver el b0 y el b1"
   ]
  },
  {
   "cell_type": "code",
   "execution_count": 8,
   "metadata": {},
   "outputs": [
    {
     "name": "stdout",
     "output_type": "stream",
     "text": [
      "-13429.996110943659 [  8.56938197   4.72136899 105.81707729]\n"
     ]
    }
   ],
   "source": [
    "b0 = lm.intercept_ #La ordenada al origen\n",
    "b1 = lm.coef_ #La pendiente, o scople\n",
    "print(b0,b1)"
   ]
  },
  {
   "cell_type": "markdown",
   "metadata": {},
   "source": [
    "A partir de estos datos, vemos que la ecuacion de Ŷ seria :\n",
    "\n",
    "Price(lo que queremos predecir) = b0 + b1 * highway-mpg"
   ]
  },
  {
   "cell_type": "markdown",
   "metadata": {},
   "source": [
    "# Multiple Linear Model#\n",
    "\n",
    "Ahora, podemos considerar mas de una variable explicativa. El modelo de regresion múltiple estudia la relacion entre una variable de interes _'Y'_ (variable que quiero predecir o dependiente) y un conjunto de variables explicativas o regresoras(variables que utilizo para predecir)\n",
    "\n",
    "Funciona de manera similar al Simple, con la diferencia que ahora tenemos mas caracteristicas para ajustar el modelo."
   ]
  },
  {
   "cell_type": "code",
   "execution_count": 27,
   "metadata": {},
   "outputs": [],
   "source": [
    "Z = df [['horsepower', 'curb-weight', 'engine-size', 'highway-mpg']] #Conjunto de variables explicativas (caracteristicas)\n",
    "\n",
    "lm.fit(Z,df['price']) #Aca digo que quiero ajustar el precio, teniendo en cuenta lo declarado en Z\n",
    "\n",
    "Yhat1 = lm.predict(Z)"
   ]
  },
  {
   "cell_type": "markdown",
   "metadata": {},
   "source": [
    "# Residual Plot\n",
    "\n",
    "Un Residual Plot, nos sirve para visualizar el ruido (noise), es decir, la diferencia entre el valor predicho y el valor real, en relacion a todo el conjunto de datos trabajado.\n",
    "\n",
    "Un residual plot que nos indique que la predicción está siendo aunque sea parcialmente buena, es si en el grafico de dispersion, la mayor parte de los puntos tienen tendencia a encontrarse cerca del eje de las abscisas (y=0)"
   ]
  },
  {
   "cell_type": "code",
   "execution_count": 20,
   "metadata": {},
   "outputs": [
    {
     "data": {
      "text/plain": [
       "<matplotlib.axes._subplots.AxesSubplot at 0x7f6b0eeb7630>"
      ]
     },
     "execution_count": 20,
     "metadata": {},
     "output_type": "execute_result"
    },
    {
     "data": {
      "image/png": "[encoded data removed]",
      "text/plain": [
       "<Figure size 432x288 with 1 Axes>"
      ]
     },
     "metadata": {
      "needs_background": "light"
     },
     "output_type": "display_data"
    }
   ],
   "source": [
    "import seaborn as sns\n",
    "sns.residplot(df['horsepower'],df['price'])"
   ]
  },
  {
   "cell_type": "markdown",
   "metadata": {},
   "source": [
    "# Distribution Plot"
   ]
  },
  {
   "cell_type": "code",
   "execution_count": 69,
   "metadata": {},
   "outputs": [
    {
     "data": {
      "text/plain": [
       "<matplotlib.axes._subplots.AxesSubplot at 0x7f6b0e812470>"
      ]
     },
     "execution_count": 69,
     "metadata": {},
     "output_type": "execute_result"
    },
    {
     "data": {
      "image/png": "[encoded data removed]",
      "text/plain": [
       "<Figure size 432x288 with 1 Axes>"
      ]
     },
     "metadata": {
      "needs_background": "light"
     },
     "output_type": "display_data"
    }
   ],
   "source": [
    "ax1 = sns.distplot(df['price'], hist=False, color='r', label='Valor Real')\n",
    "#ax2=sns.distplot(Yhat,hist=False, color='b', label='Valor Predicho S', ax=ax1)\n",
    "sns.distplot(Yhat1,hist=False, color='g', label='Valor Predicho M', ax=ax1)"
   ]
  },
  {
   "cell_type": "markdown",
   "metadata": {},
   "source": [
    "_Con esto podemos comparar los valores reales y los valores predichos hechos con la regresion lineal múltiple. Vemos que esta regresion se acerca bastante a los valores reales del precio, que se encuentran en el dataset._"
   ]
  },
  {
   "cell_type": "markdown",
   "metadata": {},
   "source": [
    "# Regresion Polynomial Simple(Una dimension)\n",
    "\n",
    "El concepto básico es sencillo. Tenemos una sola variable explicativa contínua, x, pero podemos ajustar potencias mayores de x, como x2, x3 … y añadirlas al modelo, junto a x, para describir diversos tipos de curvatura en la relación y x.+"
   ]
  },
  {
   "cell_type": "code",
   "execution_count": 45,
   "metadata": {},
   "outputs": [
    {
     "data": {
      "text/plain": [
       "poly1d([-1.49872547e+00,  1.96887677e+02, -8.63947169e+03,  1.33515385e+05])"
      ]
     },
     "execution_count": 45,
     "metadata": {},
     "output_type": "execute_result"
    }
   ],
   "source": [
    "\n",
    "\n",
    "= np.polyfit(X['highway-mpg'],Y,3) # PASO X, Y Y EL GRADO DEL POLOINOMIO.\n",
    "p = np.poly1d(f)\n",
    "p"
   ]
  },
  {
   "cell_type": "markdown",
   "metadata": {},
   "source": [
    "# Regresion Polinomial Multiple(Varias dimensiones)\n",
    "\n",
    "En este caso, tenemos varias variables explicativas, que se encuentran elevados a exponentes no lineales. Sin dudas es la estimacion mas precisa hecha hasta el momento .\n",
    "\n",
    "En este punto, introducimos tambien el concepto de pipeline, lo que seria una 'linea de trabajo' o 'trabajo en serie'. Esto nos permite simplificar mucho el proceso de regresion."
   ]
  },
  {
   "cell_type": "code",
   "execution_count": 60,
   "metadata": {},
   "outputs": [],
   "source": [
    "from sklearn.preprocessing import PolynomialFeatures\n",
    "from sklearn.preprocessing import StandardScaler\n",
    "from sklearn.pipeline import Pipeline\n",
    "pr = PolynomialFeatures(degree=2, include_bias=False)\n",
    "x_polly=pr.fit_transform(df[['horsepower', 'curb-weight']])"
   ]
  },
  {
   "cell_type": "code",
   "execution_count": 56,
   "metadata": {},
   "outputs": [],
   "source": [
    "SCALE= StandardScaler()\n",
    "SCALE.fit(df[['horsepower','highway-mpg']])\n",
    "x_scale=SCALE.transform(df[['horsepower','highway-mpg']])"
   ]
  },
  {
   "cell_type": "code",
   "execution_count": 67,
   "metadata": {},
   "outputs": [
    {
     "data": {
      "image/png": "[encoded data removed]",
      "text/plain": [
       "<Figure size 432x288 with 1 Axes>"
      ]
     },
     "metadata": {
      "needs_background": "light"
     },
     "output_type": "display_data"
    }
   ],
   "source": [
    "Input=[('scale',StandardScaler()),('polynomial',PolynomialFeatures(degree=2)),('model',LinearRegression())]\n",
    "pipe=Pipeline(Input)\n",
    "\n",
    "pipe.fit(df[['horsepower', 'curb-weight', 'engine-size', 'highway-mpg']],Y)\n",
    "yhat=pipe.predict(df[['horsepower', 'curb-weight', 'engine-size', 'highway-mpg']])\n",
    "\n",
    "ax1 = sns.distplot(df['price'], hist=False, color='r', label='Valor Real')\n",
    "ax2=sns.distplot(yhat,hist=False, color='b', label='Valor Predicho', ax=ax1)\n"
   ]
  }
 ],
 "metadata": {
  "kernelspec": {
   "display_name": "Python 3",
   "language": "python",
   "name": "python3"
  },
  "language_info": {
   "codemirror_mode": {
    "name": "ipython",
    "version": 3
   },
   "file_extension": ".py",
   "mimetype": "text/x-python",
   "name": "python",
   "nbconvert_exporter": "python",
   "pygments_lexer": "ipython3",
   "version": "3.6.9"
  }
 },
 "nbformat": 4,
 "nbformat_minor": 2
}
